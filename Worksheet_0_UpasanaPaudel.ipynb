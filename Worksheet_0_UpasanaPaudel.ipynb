{
  "nbformat": 4,
  "nbformat_minor": 0,
  "metadata": {
    "colab": {
      "provenance": []
    },
    "kernelspec": {
      "name": "python3",
      "display_name": "Python 3"
    },
    "language_info": {
      "name": "python"
    }
  },
  "cells": [
    {
      "cell_type": "markdown",
      "source": [
        "Task - 1: Unit Conversion Program"
      ],
      "metadata": {
        "id": "Zl-ulv4jkRCu"
      }
    },
    {
      "cell_type": "code",
      "execution_count": null,
      "metadata": {
        "colab": {
          "base_uri": "https://localhost:8080/"
        },
        "id": "-nznRG5NjWuX",
        "outputId": "59ab8734-78bb-4fcd-c136-2fe5ef9dd1ca"
      },
      "outputs": [
        {
          "output_type": "stream",
          "name": "stdout",
          "text": [
            "Choose conversion type:\n",
            "1. Length\n",
            "2. Weight\n",
            "3. Volume\n",
            "Enter choice (1/2/3): 1\n",
            "Choose conversion subtype:\n",
            "1. Meters to Feet\n",
            "2. Feet to Meters\n",
            "Enter choice (1/2): 1\n",
            "Enter value to convert: 45\n",
            "45.0 meters is equal to 147.6378 feet.\n"
          ]
        }
      ],
      "source": [
        "def convert_units():\n",
        "    \"\"\"\n",
        "    Converts between different units of measurement.\n",
        "    Supports length (meters to feet and vice versa),\n",
        "    weight (kilograms to pounds and vice versa),\n",
        "    and volume (liters to gallons and vice versa).\n",
        "    \"\"\"\n",
        "    def meters_to_feet(meters):\n",
        "        return meters * 3.28084\n",
        "\n",
        "    def feet_to_meters(feet):\n",
        "        return feet / 3.28084\n",
        "\n",
        "    def kilograms_to_pounds(kg):\n",
        "        return kg * 2.20462\n",
        "\n",
        "    def pounds_to_kilograms(pounds):\n",
        "        return pounds / 2.20462\n",
        "\n",
        "    def liters_to_gallons(liters):\n",
        "        return liters * 0.264172\n",
        "\n",
        "    def gallons_to_liters(gallons):\n",
        "        return gallons / 0.264172\n",
        "\n",
        "    print(\"Choose conversion type:\")\n",
        "    print(\"1. Length\")\n",
        "    print(\"2. Weight\")\n",
        "    print(\"3. Volume\")\n",
        "\n",
        "    choice = input(\"Enter choice (1/2/3): \")\n",
        "\n",
        "    if choice == \"1\":\n",
        "        print(\"Choose conversion subtype:\")\n",
        "        print(\"1. Meters to Feet\")\n",
        "        print(\"2. Feet to Meters\")\n",
        "        sub_choice = input(\"Enter choice (1/2): \")\n",
        "        value = float(input(\"Enter value to convert: \"))\n",
        "        if sub_choice == \"1\":\n",
        "            result = meters_to_feet(value)\n",
        "            print(f\"{value} meters is equal to {result} feet.\")\n",
        "        elif sub_choice == \"2\":\n",
        "            result = feet_to_meters(value)\n",
        "            print(f\"{value} feet is equal to {result} meters.\")\n",
        "        else:\n",
        "            print(\"Invalid choice.\")\n",
        "\n",
        "    elif choice == \"2\":\n",
        "        print(\"Choose conversion subtype:\")\n",
        "        print(\"1. Kilograms to Pounds\")\n",
        "        print(\"2. Pounds to Kilograms\")\n",
        "        sub_choice = input(\"Enter choice (1/2): \")\n",
        "        value = float(input(\"Enter value to convert: \"))\n",
        "        if sub_choice == \"1\":\n",
        "            result = kilograms_to_pounds(value)\n",
        "            print(f\"{value} kilograms is equal to {result} pounds.\")\n",
        "        elif sub_choice == \"2\":\n",
        "            result = pounds_to_kilograms(value)\n",
        "            print(f\"{value} pounds is equal to {result} kilograms.\")\n",
        "        else:\n",
        "            print(\"Invalid choice.\")\n",
        "\n",
        "    elif choice == \"3\":\n",
        "        print(\"Choose conversion subtype:\")\n",
        "        print(\"1. Liters to Gallons\")\n",
        "        print(\"2. Gallons to Liters\")\n",
        "        sub_choice = input(\"Enter choice (1/2): \")\n",
        "        value = float(input(\"Enter value to convert: \"))\n",
        "        if sub_choice == \"1\":\n",
        "            result = liters_to_gallons(value)\n",
        "            print(f\"{value} liters is equal to {result} gallons.\")\n",
        "        elif sub_choice == \"2\":\n",
        "            result = gallons_to_liters(value)\n",
        "            print(f\"{value} gallons is equal to {result} liters.\")\n",
        "        else:\n",
        "            print(\"Invalid choice.\")\n",
        "\n",
        "    else:\n",
        "        print(\"Invalid choice.\")\n",
        "\n",
        "convert_units()\n"
      ]
    },
    {
      "cell_type": "markdown",
      "source": [
        "Task - 2: Mathematical Operations on a List of Numbers\n"
      ],
      "metadata": {
        "id": "G9MckIx_kNvW"
      }
    },
    {
      "cell_type": "code",
      "source": [
        "def math_operations():\n",
        "    \"\"\"\n",
        "    Performs various mathematical operations on a list of numbers.\n",
        "    Supports finding the sum, average, maximum, and minimum of the numbers.\n",
        "    \"\"\"\n",
        "    def calculate_sum(numbers):\n",
        "        return sum(numbers)\n",
        "\n",
        "    def calculate_average(numbers):\n",
        "        return sum(numbers) / len(numbers)\n",
        "\n",
        "    def find_maximum(numbers):\n",
        "        return max(numbers)\n",
        "\n",
        "    def find_minimum(numbers):\n",
        "        return min(numbers)\n",
        "\n",
        "    print(\"Choose an operation:\")\n",
        "    print(\"1. Sum\")\n",
        "    print(\"2. Average\")\n",
        "    print(\"3. Maximum\")\n",
        "    print(\"4. Minimum\")\n",
        "\n",
        "    choice = input(\"Enter choice (1/2/3/4): \")\n",
        "    try:\n",
        "        numbers = list(map(float, input(\"Enter numbers separated by spaces: \").split()))\n",
        "    except ValueError:\n",
        "        print(\"Invalid input. Please enter numeric values.\")\n",
        "        return\n",
        "\n",
        "    if choice == \"1\":\n",
        "        result = calculate_sum(numbers)\n",
        "        print(f\"Sum: {result}\")\n",
        "    elif choice == \"2\":\n",
        "        result = calculate_average(numbers)\n",
        "        print(f\"Average: {result}\")\n",
        "    elif choice == \"3\":\n",
        "        result = find_maximum(numbers)\n",
        "        print(f\"Maximum: {result}\")\n",
        "    elif choice == \"4\":\n",
        "        result = find_minimum(numbers)\n",
        "        print(f\"Minimum: {result}\")\n",
        "    else:\n",
        "        print(\"Invalid choice.\")\n",
        "\n",
        "math_operations()\n"
      ],
      "metadata": {
        "colab": {
          "base_uri": "https://localhost:8080/"
        },
        "id": "jvOh9ppOk74G",
        "outputId": "0d7a88b3-2b09-4133-8141-5675d2cb8de5"
      },
      "execution_count": null,
      "outputs": [
        {
          "output_type": "stream",
          "name": "stdout",
          "text": [
            "Choose an operation:\n",
            "1. Sum\n",
            "2. Average\n",
            "3. Maximum\n",
            "4. Minimum\n",
            "Enter choice (1/2/3/4): 3\n",
            "Enter numbers separated by spaces: 1 2 3 4 5 6\n",
            "Maximum: 6.0\n"
          ]
        }
      ]
    },
    {
      "cell_type": "markdown",
      "source": [
        "4.2 Exercise on List Manipulation\n",
        "1. Extract Every Other Element"
      ],
      "metadata": {
        "id": "Qp_z-MgYlGq_"
      }
    },
    {
      "cell_type": "code",
      "source": [
        "def extract_every_other(lst):\n",
        "    return lst[::2]\n",
        "\n",
        "# Example usage\n",
        "print(extract_every_other([1, 2, 3, 4, 5, 6]))  # Output: [1, 3, 5]\n"
      ],
      "metadata": {
        "colab": {
          "base_uri": "https://localhost:8080/"
        },
        "id": "e0cHJmnAlM28",
        "outputId": "3754e6df-37c8-40f0-d38c-73edd3db3183"
      },
      "execution_count": null,
      "outputs": [
        {
          "output_type": "stream",
          "name": "stdout",
          "text": [
            "[1, 3, 5]\n"
          ]
        }
      ]
    },
    {
      "cell_type": "markdown",
      "source": [
        "2. Slice a Sublist"
      ],
      "metadata": {
        "id": "hYTO_De6lZEh"
      }
    },
    {
      "cell_type": "code",
      "source": [
        "def get_sublist(lst, start, end):\n",
        "    return lst[start:end+1]\n",
        "\n",
        "# Example usage\n",
        "print(get_sublist([1, 2, 3, 4, 5, 6], 2, 4))  # Output: [3, 4, 5]\n"
      ],
      "metadata": {
        "colab": {
          "base_uri": "https://localhost:8080/"
        },
        "id": "m8HPv-YxldsV",
        "outputId": "85960074-52db-4509-9c57-abac18ebbac2"
      },
      "execution_count": null,
      "outputs": [
        {
          "output_type": "stream",
          "name": "stdout",
          "text": [
            "[3, 4, 5]\n"
          ]
        }
      ]
    },
    {
      "cell_type": "markdown",
      "source": [
        "3. Reverse a List Using Slicing"
      ],
      "metadata": {
        "id": "_Su0lG9jlhbJ"
      }
    },
    {
      "cell_type": "code",
      "source": [
        "def reverse_list(lst):\n",
        "    return lst[::-1]\n",
        "\n",
        "# Example usage\n",
        "print(reverse_list([1, 2, 3, 4, 5]))  # Output: [5, 4, 3, 2, 1]\n"
      ],
      "metadata": {
        "colab": {
          "base_uri": "https://localhost:8080/"
        },
        "id": "IPB4F422lkmR",
        "outputId": "4fb8f8fb-456c-41c5-f098-ee0221a597f8"
      },
      "execution_count": null,
      "outputs": [
        {
          "output_type": "stream",
          "name": "stdout",
          "text": [
            "[5, 4, 3, 2, 1]\n"
          ]
        }
      ]
    },
    {
      "cell_type": "markdown",
      "source": [
        "4. Remove the First and Last Elements"
      ],
      "metadata": {
        "id": "mznqkS3elo7I"
      }
    },
    {
      "cell_type": "code",
      "source": [
        "def remove_first_last(lst):\n",
        "    return lst[1:-1]\n",
        "\n",
        "# Example usage\n",
        "print(remove_first_last([1, 2, 3, 4, 5]))  # Output: [2, 3, 4]\n"
      ],
      "metadata": {
        "colab": {
          "base_uri": "https://localhost:8080/"
        },
        "id": "dAid5OQIltZX",
        "outputId": "46186ea8-ab67-4fe8-b049-98a2c8942787"
      },
      "execution_count": null,
      "outputs": [
        {
          "output_type": "stream",
          "name": "stdout",
          "text": [
            "[2, 3, 4]\n"
          ]
        }
      ]
    },
    {
      "cell_type": "markdown",
      "source": [
        "5. Get the First n Elements"
      ],
      "metadata": {
        "id": "HzGKzB7flwrm"
      }
    },
    {
      "cell_type": "code",
      "source": [
        "def get_first_n(lst, n):\n",
        "    return lst[:n]\n",
        "\n",
        "# Example usage\n",
        "print(get_first_n([1, 2, 3, 4, 5], 3))  # Output: [1, 2, 3]\n"
      ],
      "metadata": {
        "colab": {
          "base_uri": "https://localhost:8080/"
        },
        "id": "vxgj009ol2Vg",
        "outputId": "b765a622-e281-4165-a8ba-86038faee677"
      },
      "execution_count": null,
      "outputs": [
        {
          "output_type": "stream",
          "name": "stdout",
          "text": [
            "[1, 2, 3]\n"
          ]
        }
      ]
    },
    {
      "cell_type": "markdown",
      "source": [
        "6. Extract Elements from the End"
      ],
      "metadata": {
        "id": "0ICZwmYZl5sF"
      }
    },
    {
      "cell_type": "code",
      "source": [
        "def get_last_n(lst, n):\n",
        "    return lst[-n:]\n",
        "\n",
        "# Example usage\n",
        "print(get_last_n([1, 2, 3, 4, 5], 2))  # Output: [4, 5]\n"
      ],
      "metadata": {
        "colab": {
          "base_uri": "https://localhost:8080/"
        },
        "id": "bGo3qJYFl9LY",
        "outputId": "cb2f209f-1375-45b2-804e-100167cabcc4"
      },
      "execution_count": null,
      "outputs": [
        {
          "output_type": "stream",
          "name": "stdout",
          "text": [
            "[4, 5]\n"
          ]
        }
      ]
    },
    {
      "cell_type": "markdown",
      "source": [
        "7. Extract Elements in Reverse Order"
      ],
      "metadata": {
        "id": "FqxFm7dwmIyG"
      }
    },
    {
      "cell_type": "code",
      "source": [
        "def reverse_skip(lst):\n",
        "    return lst[-2::-2]\n",
        "\n",
        "# Example usage\n",
        "print(reverse_skip([1, 2, 3, 4, 5, 6]))  # Output: [5, 3, 1]\n"
      ],
      "metadata": {
        "colab": {
          "base_uri": "https://localhost:8080/"
        },
        "id": "x0_K0jyxmMFJ",
        "outputId": "5a731480-2fb4-4939-e844-3588a78f4f78"
      },
      "execution_count": null,
      "outputs": [
        {
          "output_type": "stream",
          "name": "stdout",
          "text": [
            "[5, 3, 1]\n"
          ]
        }
      ]
    },
    {
      "cell_type": "markdown",
      "source": [
        "4.3 Exercise on Nested List\n",
        "1. Flatten a Nested List"
      ],
      "metadata": {
        "id": "cts_nSXUmP1y"
      }
    },
    {
      "cell_type": "code",
      "source": [
        "def flatten(lst):\n",
        "    flat_list = []\n",
        "    for item in lst:\n",
        "        if isinstance(item, list):\n",
        "            flat_list.extend(flatten(item))\n",
        "        else:\n",
        "            flat_list.append(item)\n",
        "    return flat_list\n",
        "\n",
        "# Example usage\n",
        "print(flatten([[1, 2], [3, 4], [5]]))  # Output: [1, 2, 3, 4, 5]\n"
      ],
      "metadata": {
        "colab": {
          "base_uri": "https://localhost:8080/"
        },
        "id": "B6d-RR3nmTic",
        "outputId": "2990fedd-68c3-46f7-82de-420a8ca1e17f"
      },
      "execution_count": null,
      "outputs": [
        {
          "output_type": "stream",
          "name": "stdout",
          "text": [
            "[1, 2, 3, 4, 5]\n"
          ]
        }
      ]
    },
    {
      "cell_type": "markdown",
      "source": [
        "2. Accessing Nested List Elements"
      ],
      "metadata": {
        "id": "r2AcPOB-mcy5"
      }
    },
    {
      "cell_type": "code",
      "source": [
        "def access_nested_element(lst, indices):\n",
        "    element = lst\n",
        "    for index in indices:\n",
        "        element = element[index]\n",
        "    return element\n",
        "\n",
        "# Example usage\n",
        "print(access_nested_element([[1, 2, 3], [4, 5, 6], [7, 8, 9]], [1, 2]))  # Output: 6\n"
      ],
      "metadata": {
        "colab": {
          "base_uri": "https://localhost:8080/"
        },
        "id": "gK9Mgkk2mdTj",
        "outputId": "10fff867-71f4-45d0-88e9-60772e07099f"
      },
      "execution_count": null,
      "outputs": [
        {
          "output_type": "stream",
          "name": "stdout",
          "text": [
            "6\n"
          ]
        }
      ]
    },
    {
      "cell_type": "markdown",
      "source": [
        "3. Sum of All Elements in a Nested List"
      ],
      "metadata": {
        "id": "qHdqGuJRmkQ4"
      }
    },
    {
      "cell_type": "code",
      "source": [
        "def sum_nested(lst):\n",
        "    total = 0\n",
        "    for item in lst:\n",
        "        if isinstance(item, list):\n",
        "            total += sum_nested(item)\n",
        "        else:\n",
        "            total += item\n",
        "    return total\n",
        "\n",
        "# Example usage\n",
        "print(sum_nested([[1, 2], [3, [4, 5]], 6]))  # Output: 21\n"
      ],
      "metadata": {
        "colab": {
          "base_uri": "https://localhost:8080/"
        },
        "id": "ReL10N6dmn2j",
        "outputId": "6157d129-38a3-40a6-9348-2987515fd9f9"
      },
      "execution_count": null,
      "outputs": [
        {
          "output_type": "stream",
          "name": "stdout",
          "text": [
            "21\n"
          ]
        }
      ]
    },
    {
      "cell_type": "markdown",
      "source": [
        "4. Remove Specific Element from a Nested List"
      ],
      "metadata": {
        "id": "duQAt0jwmzDC"
      }
    },
    {
      "cell_type": "code",
      "source": [
        "def remove_element(lst, elem):\n",
        "    return [[x for x in sublist if x != elem] for sublist in lst]\n",
        "\n",
        "# Example usage\n",
        "print(remove_element([[1, 2], [3, 2], [4, 5]], 2))  # Output: [[1], [3], [4, 5]]\n"
      ],
      "metadata": {
        "colab": {
          "base_uri": "https://localhost:8080/"
        },
        "id": "RwQrEachm2aw",
        "outputId": "4aed5c22-7bf6-4309-c44c-5966f8640e65"
      },
      "execution_count": null,
      "outputs": [
        {
          "output_type": "stream",
          "name": "stdout",
          "text": [
            "[[1], [3], [4, 5]]\n"
          ]
        }
      ]
    },
    {
      "cell_type": "markdown",
      "source": [
        "5. Find the Maximum Element in a Nested List"
      ],
      "metadata": {
        "id": "GWSHH8jrm6Yt"
      }
    },
    {
      "cell_type": "code",
      "source": [
        "def find_max(lst):\n",
        "    max_elem = float('-inf')\n",
        "    for item in lst:\n",
        "        if isinstance(item, list):\n",
        "            max_elem = max(max_elem, find_max(item))\n",
        "        else:\n",
        "            max_elem = max(max_elem, item)\n",
        "    return max_elem\n",
        "\n",
        "# Example usage\n",
        "print(find_max([[1, 2], [3, [4, 5]], 6]))  # Output: 6\n"
      ],
      "metadata": {
        "colab": {
          "base_uri": "https://localhost:8080/"
        },
        "id": "WtcSQyCom95M",
        "outputId": "13cdf9f2-02a8-4e3d-f4a8-c1c39a59b4ed"
      },
      "execution_count": null,
      "outputs": [
        {
          "output_type": "stream",
          "name": "stdout",
          "text": [
            "6\n"
          ]
        }
      ]
    },
    {
      "cell_type": "markdown",
      "source": [
        "6. Count Occurrences of an Element in a Nested List"
      ],
      "metadata": {
        "id": "CcLx9xKNnBbq"
      }
    },
    {
      "cell_type": "code",
      "source": [
        "def count_occurrences(lst, elem):\n",
        "    count = 0\n",
        "    for item in lst:\n",
        "        if isinstance(item, list):\n",
        "            count += count_occurrences(item, elem)\n",
        "        elif item == elem:\n",
        "            count += 1\n",
        "    return count\n",
        "\n",
        "# Example usage\n",
        "print(count_occurrences([[1, 2], [2, 3], [2, 4]], 2))  # Output: 3\n"
      ],
      "metadata": {
        "colab": {
          "base_uri": "https://localhost:8080/"
        },
        "id": "PGcGb8ZrnFlR",
        "outputId": "ffe0006b-36a1-486f-fa9a-a0fc7dc9052b"
      },
      "execution_count": null,
      "outputs": [
        {
          "output_type": "stream",
          "name": "stdout",
          "text": [
            "3\n"
          ]
        }
      ]
    },
    {
      "cell_type": "markdown",
      "source": [
        "7. Flatten a List of Lists of Lists"
      ],
      "metadata": {
        "id": "Bv5Nd5W_nU15"
      }
    },
    {
      "cell_type": "code",
      "source": [
        "def deep_flatten(lst):\n",
        "    flat_list = []\n",
        "    for item in lst:\n",
        "        if isinstance(item, list):\n",
        "            flat_list.extend(deep_flatten(item))\n",
        "        else:\n",
        "            flat_list.append(item)\n",
        "    return flat_list\n",
        "\n",
        "# Example usage\n",
        "print(deep_flatten([[[1, 2], [3, 4]], [[5, 6], [7, 8]]]))  # Output: [1, 2, 3, 4, 5, 6, 7, 8]\n"
      ],
      "metadata": {
        "colab": {
          "base_uri": "https://localhost:8080/"
        },
        "id": "CLlKbBz3nXxj",
        "outputId": "338a3307-d132-458c-a848-9ec36a694200"
      },
      "execution_count": null,
      "outputs": [
        {
          "output_type": "stream",
          "name": "stdout",
          "text": [
            "[1, 2, 3, 4, 5, 6, 7, 8]\n"
          ]
        }
      ]
    },
    {
      "cell_type": "markdown",
      "source": [
        "8. Nested List Average"
      ],
      "metadata": {
        "id": "ARA30X1QnawM"
      }
    },
    {
      "cell_type": "code",
      "source": [
        "def average_nested(lst):\n",
        "    total, count = 0, 0\n",
        "    for item in lst:\n",
        "        if isinstance(item, list):\n",
        "            sub_total, sub_count = average_nested(item)  # Get total and count from sublist\n",
        "            total += sub_total\n",
        "            count += sub_count\n",
        "        else:\n",
        "            total += item\n",
        "            count += 1\n",
        "    return (total, count) if count else (0, 0)  # Return total and count as a tuple\n",
        "\n",
        "# Wrapper function to get only the average\n",
        "def get_average(lst):\n",
        "    total, count = average_nested(lst)\n",
        "    return total / count if count else 0\n",
        "\n",
        "# Example usage\n",
        "print(get_average([[1, 2], [3, 4], [5, 6]]))  # Output: 3.5\n"
      ],
      "metadata": {
        "colab": {
          "base_uri": "https://localhost:8080/"
        },
        "id": "jRSmb4cyneI3",
        "outputId": "990d8af5-19f5-449a-cda5-030186f40ed7"
      },
      "execution_count": null,
      "outputs": [
        {
          "output_type": "stream",
          "name": "stdout",
          "text": [
            "3.5\n"
          ]
        }
      ]
    },
    {
      "cell_type": "markdown",
      "source": [
        "5 About NumPy\n",
        "Problem - 1: Array Creation"
      ],
      "metadata": {
        "id": "hyjexjR2oIEy"
      }
    },
    {
      "cell_type": "code",
      "source": [
        "import numpy as np\n",
        "\n",
        "# 1. Initialize an empty array with size 2x2\n",
        "empty_array = np.empty((2, 2))\n",
        "print(\"Empty Array:\\n\", empty_array)\n",
        "\n",
        "# 2. Initialize an all-one array with size 4x2\n",
        "ones_array = np.ones((4, 2))\n",
        "print(\"Ones Array:\\n\", ones_array)\n",
        "\n",
        "# 3. Return a new array of given shape and type, filled with fill_value\n",
        "filled_array = np.full((3, 3), fill_value=7)\n",
        "print(\"Filled Array:\\n\", filled_array)\n",
        "\n",
        "# 4. Return a new array of zeros with the same shape and type as a given array\n",
        "original_array = np.array([[1, 2, 3], [4, 5, 6]])\n",
        "zeros_like_array = np.zeros_like(original_array)\n",
        "print(\"Zeros Like Array:\\n\", zeros_like_array)\n",
        "\n",
        "# 5. Return a new array of ones with the same shape and type as a given array\n",
        "ones_like_array = np.ones_like(original_array)\n",
        "print(\"Ones Like Array:\\n\", ones_like_array)\n",
        "\n",
        "# 6. Convert a list to a NumPy array\n",
        "new_list = [1, 2, 3, 4]\n",
        "array_from_list = np.array(new_list)\n",
        "print(\"Array from List:\\n\", array_from_list)\n"
      ],
      "metadata": {
        "colab": {
          "base_uri": "https://localhost:8080/"
        },
        "id": "ymlbRkezoLtY",
        "outputId": "2e83e1ed-05c1-4ca0-b049-52fc33023324"
      },
      "execution_count": null,
      "outputs": [
        {
          "output_type": "stream",
          "name": "stdout",
          "text": [
            "Empty Array:\n",
            " [[2.12701031e-316 0.00000000e+000]\n",
            " [6.56375738e-310 2.57026842e+151]]\n",
            "Ones Array:\n",
            " [[1. 1.]\n",
            " [1. 1.]\n",
            " [1. 1.]\n",
            " [1. 1.]]\n",
            "Filled Array:\n",
            " [[7 7 7]\n",
            " [7 7 7]\n",
            " [7 7 7]]\n",
            "Zeros Like Array:\n",
            " [[0 0 0]\n",
            " [0 0 0]]\n",
            "Ones Like Array:\n",
            " [[1 1 1]\n",
            " [1 1 1]]\n",
            "Array from List:\n",
            " [1 2 3 4]\n"
          ]
        }
      ]
    },
    {
      "cell_type": "markdown",
      "source": [
        "Problem - 2: Array Manipulation"
      ],
      "metadata": {
        "id": "h08XF5yEoRyy"
      }
    },
    {
      "cell_type": "code",
      "source": [
        "# 1. Create an array with values ranging from 10 to 49\n",
        "range_array = np.arange(10, 50)\n",
        "print(\"Range Array:\\n\", range_array)\n",
        "\n",
        "# 2. Create a 3x3 matrix with values ranging from 0 to 8\n",
        "matrix_3x3 = np.arange(9).reshape(3, 3)\n",
        "print(\"3x3 Matrix:\\n\", matrix_3x3)\n",
        "\n",
        "# 3. Create a 3x3 identity matrix\n",
        "identity_matrix = np.eye(3)\n",
        "print(\"Identity Matrix:\\n\", identity_matrix)\n",
        "\n",
        "# 4. Create a random array of size 30 and find the mean of the array\n",
        "random_array = np.random.random(30)\n",
        "mean_value = random_array.mean()\n",
        "print(\"Random Array Mean:\", mean_value)\n",
        "\n",
        "# 5. Create a 10x10 array with random values and find the minimum and maximum values\n",
        "random_matrix = np.random.random((10, 10))\n",
        "min_value = random_matrix.min()\n",
        "max_value = random_matrix.max()\n",
        "print(\"Min Value:\", min_value, \"Max Value:\", max_value)\n",
        "\n",
        "# 6. Create a zero array of size 10 and replace the 5th element with 1\n",
        "zero_array = np.zeros(10)\n",
        "zero_array[4] = 1\n",
        "print(\"Modified Zero Array:\\n\", zero_array)\n",
        "\n",
        "# 7. Reverse an array\n",
        "array_to_reverse = np.array([1, 2, 0, 0, 4, 0])\n",
        "reversed_array = array_to_reverse[::-1]\n",
        "print(\"Reversed Array:\\n\", reversed_array)\n",
        "\n",
        "# 8. Create a 2D array with 1 on the border and 0 inside\n",
        "border_array = np.ones((5, 5))\n",
        "border_array[1:-1, 1:-1] = 0\n",
        "print(\"Border Array:\\n\", border_array)\n",
        "\n",
        "# 9. Create an 8x8 matrix and fill it with a checkerboard pattern\n",
        "checkerboard = np.zeros((8, 8))\n",
        "checkerboard[1::2, ::2] = 1\n",
        "checkerboard[::2, 1::2] = 1\n",
        "print(\"Checkerboard Pattern:\\n\", checkerboard)\n"
      ],
      "metadata": {
        "colab": {
          "base_uri": "https://localhost:8080/"
        },
        "id": "xWFkzxRooU-Y",
        "outputId": "6f1a1a6f-9f85-4698-80da-8dac51eb35d2"
      },
      "execution_count": null,
      "outputs": [
        {
          "output_type": "stream",
          "name": "stdout",
          "text": [
            "Range Array:\n",
            " [10 11 12 13 14 15 16 17 18 19 20 21 22 23 24 25 26 27 28 29 30 31 32 33\n",
            " 34 35 36 37 38 39 40 41 42 43 44 45 46 47 48 49]\n",
            "3x3 Matrix:\n",
            " [[0 1 2]\n",
            " [3 4 5]\n",
            " [6 7 8]]\n",
            "Identity Matrix:\n",
            " [[1. 0. 0.]\n",
            " [0. 1. 0.]\n",
            " [0. 0. 1.]]\n",
            "Random Array Mean: 0.5634882332993857\n",
            "Min Value: 0.00763782201026697 Max Value: 0.9922497001811872\n",
            "Modified Zero Array:\n",
            " [0. 0. 0. 0. 1. 0. 0. 0. 0. 0.]\n",
            "Reversed Array:\n",
            " [0 4 0 0 2 1]\n",
            "Border Array:\n",
            " [[1. 1. 1. 1. 1.]\n",
            " [1. 0. 0. 0. 1.]\n",
            " [1. 0. 0. 0. 1.]\n",
            " [1. 0. 0. 0. 1.]\n",
            " [1. 1. 1. 1. 1.]]\n",
            "Checkerboard Pattern:\n",
            " [[0. 1. 0. 1. 0. 1. 0. 1.]\n",
            " [1. 0. 1. 0. 1. 0. 1. 0.]\n",
            " [0. 1. 0. 1. 0. 1. 0. 1.]\n",
            " [1. 0. 1. 0. 1. 0. 1. 0.]\n",
            " [0. 1. 0. 1. 0. 1. 0. 1.]\n",
            " [1. 0. 1. 0. 1. 0. 1. 0.]\n",
            " [0. 1. 0. 1. 0. 1. 0. 1.]\n",
            " [1. 0. 1. 0. 1. 0. 1. 0.]]\n"
          ]
        }
      ]
    },
    {
      "cell_type": "markdown",
      "source": [
        "Problem - 3: Array Operations"
      ],
      "metadata": {
        "id": "ANDt_PcSoZEG"
      }
    },
    {
      "cell_type": "code",
      "source": [
        "# Given arrays\n",
        "x = np.array([[1, 2], [3, 5]])\n",
        "y = np.array([[5, 6], [7, 8]])\n",
        "v = np.array([9, 10])\n",
        "w = np.array([11, 12])\n",
        "\n",
        "# 1. Add the two arrays\n",
        "sum_xy = x + y\n",
        "print(\"Sum of x and y:\\n\", sum_xy)\n",
        "\n",
        "# 2. Subtract the two arrays\n",
        "diff_xy = x - y\n",
        "print(\"Difference of x and y:\\n\", diff_xy)\n",
        "\n",
        "# 3. Multiply the array with an integer\n",
        "multiplied_x = x * 3\n",
        "print(\"Multiplied x by 3:\\n\", multiplied_x)\n",
        "\n",
        "# 4. Find the square of each element of the array\n",
        "squared_x = np.square(x)\n",
        "print(\"Square of each element in x:\\n\", squared_x)\n",
        "\n",
        "# 5. Find the dot product between v and w; x and v; x and y\n",
        "dot_vw = np.dot(v, w)\n",
        "dot_xv = np.dot(x, v)\n",
        "dot_xy = np.dot(x, y)\n",
        "print(\"Dot Product v and w:\", dot_vw)\n",
        "print(\"Dot Product x and v:\\n\", dot_xv)\n",
        "print(\"Dot Product x and y:\\n\", dot_xy)\n",
        "\n",
        "# 6. Concatenate x and y along row and v and w along column\n",
        "concat_xy_row = np.concatenate((x, y), axis=0)\n",
        "concat_vw_col = np.column_stack((v, w))\n",
        "print(\"Concatenate x and y along row:\\n\", concat_xy_row)\n",
        "print(\"Concatenate v and w along column:\\n\", concat_vw_col)\n",
        "\n",
        "# 7. Concatenate x and v; explain any error\n",
        "try:\n",
        "    concat_xv = np.concatenate((x, v), axis=0)\n",
        "except ValueError as e:\n",
        "    print(\"Error:\", e)\n",
        "    print(\"Explanation: The shapes of x and v are not compatible for concatenation along axis 0.\")\n"
      ],
      "metadata": {
        "colab": {
          "base_uri": "https://localhost:8080/"
        },
        "id": "eDOUmi0aocKw",
        "outputId": "9d88a418-b668-4a22-e495-c1a4a550ec6f"
      },
      "execution_count": null,
      "outputs": [
        {
          "output_type": "stream",
          "name": "stdout",
          "text": [
            "Sum of x and y:\n",
            " [[ 6  8]\n",
            " [10 13]]\n",
            "Difference of x and y:\n",
            " [[-4 -4]\n",
            " [-4 -3]]\n",
            "Multiplied x by 3:\n",
            " [[ 3  6]\n",
            " [ 9 15]]\n",
            "Square of each element in x:\n",
            " [[ 1  4]\n",
            " [ 9 25]]\n",
            "Dot Product v and w: 219\n",
            "Dot Product x and v:\n",
            " [29 77]\n",
            "Dot Product x and y:\n",
            " [[19 22]\n",
            " [50 58]]\n",
            "Concatenate x and y along row:\n",
            " [[1 2]\n",
            " [3 5]\n",
            " [5 6]\n",
            " [7 8]]\n",
            "Concatenate v and w along column:\n",
            " [[ 9 11]\n",
            " [10 12]]\n",
            "Error: all the input arrays must have same number of dimensions, but the array at index 0 has 2 dimension(s) and the array at index 1 has 1 dimension(s)\n",
            "Explanation: The shapes of x and v are not compatible for concatenation along axis 0.\n"
          ]
        }
      ]
    },
    {
      "cell_type": "markdown",
      "source": [
        "Problem - 4: Matrix Operations"
      ],
      "metadata": {
        "id": "6UWpHHidohPx"
      }
    },
    {
      "cell_type": "code",
      "source": [
        "# Given arrays\n",
        "A = np.array([[3, 4], [7, 8]])\n",
        "B = np.array([[5, 3], [2, 1]])\n",
        "\n",
        "# 1. Prove A * A^(-1) = I\n",
        "A_inv = np.linalg.inv(A)\n",
        "identity_check = np.dot(A, A_inv)\n",
        "print(\"A * A^(-1):\\n\", identity_check)\n",
        "\n",
        "# 2. Prove AB != BA\n",
        "AB = np.dot(A, B)\n",
        "BA = np.dot(B, A)\n",
        "print(\"AB:\\n\", AB)\n",
        "print(\"BA:\\n\", BA)\n",
        "print(\"AB != BA:\", not np.array_equal(AB, BA))\n",
        "\n",
        "# 3. Prove (AB)^T = B^T * A^T\n",
        "AB_T = np.transpose(np.dot(A, B))\n",
        "B_T_A_T = np.dot(np.transpose(B), np.transpose(A))\n",
        "print(\"(AB)^T:\\n\", AB_T)\n",
        "print(\"B^T * A^T:\\n\", B_T_A_T)\n",
        "print(\"(AB)^T == B^T * A^T:\", np.array_equal(AB_T, B_T_A_T))\n",
        "\n",
        "# Solve the system of linear equations using inverse method\n",
        "A_matrix = np.array([[2, -3, 1], [1, -1, 2], [3, 1, -1]])\n",
        "B_matrix = np.array([-1, -3, 9])\n",
        "X = np.linalg.solve(A_matrix, B_matrix)\n",
        "print(\"Solution X:\\n\", X)\n",
        "\n",
        "# Solve using np.linalg.inv\n",
        "A_inv_matrix = np.linalg.inv(A_matrix)\n",
        "X_inv = np.dot(A_inv_matrix, B_matrix)\n",
        "print(\"Solution X using inverse:\\n\", X_inv)\n"
      ],
      "metadata": {
        "colab": {
          "base_uri": "https://localhost:8080/"
        },
        "id": "anta38xYo_Yp",
        "outputId": "dbdcb6b6-0c66-4a6e-c323-fa40020ceb35"
      },
      "execution_count": null,
      "outputs": [
        {
          "output_type": "stream",
          "name": "stdout",
          "text": [
            "A * A^(-1):\n",
            " [[1.00000000e+00 0.00000000e+00]\n",
            " [1.77635684e-15 1.00000000e+00]]\n",
            "AB:\n",
            " [[23 13]\n",
            " [51 29]]\n",
            "BA:\n",
            " [[36 44]\n",
            " [13 16]]\n",
            "AB != BA: True\n",
            "(AB)^T:\n",
            " [[23 51]\n",
            " [13 29]]\n",
            "B^T * A^T:\n",
            " [[23 51]\n",
            " [13 29]]\n",
            "(AB)^T == B^T * A^T: True\n",
            "Solution X:\n",
            " [ 2.  1. -2.]\n",
            "Solution X using inverse:\n",
            " [ 2.  1. -2.]\n"
          ]
        }
      ]
    },
    {
      "cell_type": "markdown",
      "source": [
        "10.2 Experiment: How Fast is NumPy?"
      ],
      "metadata": {
        "id": "yX98dCwfpDi0"
      }
    },
    {
      "cell_type": "code",
      "source": [
        "import time\n",
        "\n",
        "# Element-wise Addition\n",
        "size = 1000000\n",
        "list_a = list(range(size))\n",
        "list_b = list(range(size))\n",
        "\n",
        "start_time = time.time()\n",
        "result_list = [a + b for a, b in zip(list_a, list_b)]\n",
        "end_time = time.time()\n",
        "list_time = end_time - start_time\n",
        "print(f\"List Addition Time: {list_time:.5f} seconds\")\n",
        "\n",
        "array_a = np.array(list_a)\n",
        "array_b = np.array(list_b)\n",
        "\n",
        "start_time = time.time()\n",
        "result_array = array_a + array_b\n",
        "end_time = time.time()\n",
        "array_time = end_time - start_time\n",
        "print(f\"Array Addition Time: {array_time:.5f} seconds\")\n",
        "\n",
        "# Element-wise Multiplication\n",
        "start_time = time.time()\n",
        "result_list = [a * b for a, b in zip(list_a, list_b)]\n",
        "end_time = time.time()\n",
        "list_time = end_time - start_time\n",
        "print(f\"List Multiplication Time: {list_time:.5f} seconds\")\n",
        "\n",
        "start_time = time.time()\n",
        "result_array = array_a * array_b\n",
        "end_time = time.time()\n",
        "array_time = end_time - start_time\n",
        "print(f\"Array Multiplication Time: {array_time:.5f} seconds\")\n",
        "\n",
        "# Dot Product\n",
        "start_time = time.time()\n",
        "result_list = sum(a * b for a, b in zip(list_a, list_b))\n",
        "end_time = time.time()\n",
        "list_time = end_time - start_time\n",
        "print(f\"List Dot Product Time: {list_time:.5f} seconds\")\n",
        "\n",
        "start_time = time.time()\n",
        "result_array = np.dot(array_a, array_b)\n",
        "end_time = time.time()\n",
        "array_time = end_time - start_time\n",
        "print(f\"Array Dot Product Time: {array_time:.5f} seconds\")\n",
        "\n",
        "# Matrix Multiplication\n",
        "matrix_a = np.random.rand(1000, 1000)\n",
        "matrix_b = np.random.rand(1000, 1000)\n",
        "\n",
        "start_time = time.time()\n",
        "result_matrix_list = [[sum(a * b for a, b in zip(row_a, col_b)) for col_b in zip(*matrix_b)] for row_a in matrix_a]\n",
        "end_time = time.time()\n",
        "list_time = end_time - start_time\n",
        "print(f\"List Matrix Multiplication Time: {list_time:.5f} seconds\")\n",
        "\n",
        "start_time = time.time()\n",
        "result_matrix_array = np.dot(matrix_a, matrix_b)\n",
        "end_time = time.time()\n",
        "array_time = end_time - start_time\n",
        "print(f\"Array Matrix Multiplication Time: {array_time:.5f} seconds\")\n"
      ],
      "metadata": {
        "colab": {
          "base_uri": "https://localhost:8080/"
        },
        "id": "dsBIN94opGvU",
        "outputId": "afc79f53-e6fe-47a9-a9c7-8f8e4586d268"
      },
      "execution_count": null,
      "outputs": [
        {
          "output_type": "stream",
          "name": "stdout",
          "text": [
            "List Addition Time: 0.27757 seconds\n",
            "Array Addition Time: 0.00903 seconds\n",
            "List Multiplication Time: 0.22136 seconds\n",
            "Array Multiplication Time: 0.00834 seconds\n",
            "List Dot Product Time: 0.10623 seconds\n",
            "Array Dot Product Time: 0.00238 seconds\n",
            "List Matrix Multiplication Time: 313.90825 seconds\n",
            "Array Matrix Multiplication Time: 0.13341 seconds\n"
          ]
        }
      ]
    }
  ]
}